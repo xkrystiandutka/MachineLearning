{
 "cells": [
  {
   "cell_type": "markdown",
   "id": "dfc1210e-9c44-4440-8622-aea8d80e4b18",
   "metadata": {},
   "source": [
    "### Classifier based on a fully connected network"
   ]
  },
  {
   "cell_type": "code",
   "execution_count": 42,
   "id": "ff18042b-ede8-4173-a76f-2aa95390e26a",
   "metadata": {},
   "outputs": [],
   "source": [
    "import matplotlib\n",
    "import matplotlib.pyplot as plt\n",
    "import tensorflow as tf\n",
    "import keras\n",
    "import numpy as np\n",
    "import pandas as pd\n",
    "from tensorflow.keras.datasets import imdb"
   ]
  },
  {
   "cell_type": "code",
   "execution_count": 43,
   "id": "69804450-0b21-4bac-bb8b-5668422d131f",
   "metadata": {},
   "outputs": [],
   "source": [
    "(training_data, training_targets), (testing_data, testing_targets) = imdb.load_data(num_words=10000)\n",
    "data = np.concatenate((training_data, testing_data), axis=0)\n",
    "targets = np.concatenate((training_targets, testing_targets), axis=0)"
   ]
  },
  {
   "cell_type": "code",
   "execution_count": 44,
   "id": "ae38a9df-1e11-4281-bc2b-5b273457ae25",
   "metadata": {},
   "outputs": [],
   "source": [
    "def vectorize(sequences, dimension = 10000):\n",
    "    results = np.zeros((len(sequences), dimension))\n",
    "    for i, sequence in enumerate(sequences):\n",
    "        results[i, sequence] = 1\n",
    "    return results\n",
    " \n",
    "data = vectorize(data)\n",
    "targets = np.array(targets).astype(\"float32\")"
   ]
  },
  {
   "cell_type": "code",
   "execution_count": 45,
   "id": "565149eb-df28-473d-8bbd-84636d26d47c",
   "metadata": {},
   "outputs": [],
   "source": [
    "test_x = data[:10000]\n",
    "test_y = targets[:10000]\n",
    "train_x = data[10000:]\n",
    "train_y = targets[10000:]"
   ]
  },
  {
   "cell_type": "markdown",
   "id": "d657447c-5d51-4f27-9381-a451b9e157fe",
   "metadata": {},
   "source": [
    "### Model 1"
   ]
  },
  {
   "cell_type": "code",
   "execution_count": 46,
   "id": "89a25678-2750-4d44-bdac-b595ebaea24d",
   "metadata": {},
   "outputs": [
    {
     "name": "stdout",
     "output_type": "stream",
     "text": [
      "Model: \"sequential_6\"\n",
      "_________________________________________________________________\n",
      " Layer (type)                Output Shape              Param #   \n",
      "=================================================================\n",
      " dense_24 (Dense)            (None, 128)               1280128   \n",
      "                                                                 \n",
      " dropout_12 (Dropout)        (None, 128)               0         \n",
      "                                                                 \n",
      " dense_25 (Dense)            (None, 64)                8256      \n",
      "                                                                 \n",
      " dropout_13 (Dropout)        (None, 64)                0         \n",
      "                                                                 \n",
      " dense_26 (Dense)            (None, 32)                2080      \n",
      "                                                                 \n",
      " dense_27 (Dense)            (None, 1)                 33        \n",
      "                                                                 \n",
      "=================================================================\n",
      "Total params: 1,290,497\n",
      "Trainable params: 1,290,497\n",
      "Non-trainable params: 0\n",
      "_________________________________________________________________\n"
     ]
    }
   ],
   "source": [
    "model = tf.keras.models.Sequential([\n",
    "tf.keras.layers.Dense(128, activation='tanh', input_shape=(10000,)),\n",
    "tf.keras.layers.Dropout(0.3, noise_shape=None, seed=None),\n",
    "tf.keras.layers.Dense(64, activation = \"tanh\"),\n",
    "tf.keras.layers.Dropout(0.2, noise_shape=None, seed=None),\n",
    "tf.keras.layers.Dense(32, activation='tanh'),\n",
    "tf.keras.layers.Dense(1, activation='softmax') \n",
    "])\n",
    "model.summary()"
   ]
  },
  {
   "cell_type": "code",
   "execution_count": 47,
   "id": "2faf2290-693a-4d5d-be32-cadff6b44445",
   "metadata": {},
   "outputs": [],
   "source": [
    "model.compile(\n",
    "    optimizer = \"rmsprop\",\n",
    "    loss = \"binary_crossentropy\",\n",
    "    metrics = [\"accuracy\"]\n",
    ")"
   ]
  },
  {
   "cell_type": "code",
   "execution_count": 48,
   "id": "163f13e5-df5c-45fd-a360-b112ce9c1e32",
   "metadata": {},
   "outputs": [
    {
     "name": "stdout",
     "output_type": "stream",
     "text": [
      "Epoch 1/10\n",
      "80/80 [==============================] - 6s 62ms/step - loss: 0.3671 - accuracy: 0.4987 - val_loss: 0.2578 - val_accuracy: 0.5053\n",
      "Epoch 2/10\n",
      "80/80 [==============================] - 5s 65ms/step - loss: 0.2325 - accuracy: 0.4987 - val_loss: 0.2893 - val_accuracy: 0.5053\n",
      "Epoch 3/10\n",
      "80/80 [==============================] - 5s 57ms/step - loss: 0.2032 - accuracy: 0.4987 - val_loss: 0.2675 - val_accuracy: 0.5053\n",
      "Epoch 4/10\n",
      "80/80 [==============================] - 5s 64ms/step - loss: 0.1751 - accuracy: 0.4987 - val_loss: 0.3072 - val_accuracy: 0.5053\n",
      "Epoch 5/10\n",
      "80/80 [==============================] - 5s 57ms/step - loss: 0.1580 - accuracy: 0.4987 - val_loss: 0.3072 - val_accuracy: 0.5053\n",
      "Epoch 6/10\n",
      "80/80 [==============================] - 4s 54ms/step - loss: 0.1412 - accuracy: 0.4987 - val_loss: 0.3156 - val_accuracy: 0.5053\n",
      "Epoch 7/10\n",
      "80/80 [==============================] - 5s 69ms/step - loss: 0.1303 - accuracy: 0.4987 - val_loss: 0.3368 - val_accuracy: 0.5053\n",
      "Epoch 8/10\n",
      "80/80 [==============================] - 4s 52ms/step - loss: 0.1174 - accuracy: 0.4987 - val_loss: 0.3583 - val_accuracy: 0.5053\n",
      "Epoch 9/10\n",
      "80/80 [==============================] - 5s 57ms/step - loss: 0.1050 - accuracy: 0.4987 - val_loss: 0.3893 - val_accuracy: 0.5053\n",
      "Epoch 10/10\n",
      "80/80 [==============================] - 4s 54ms/step - loss: 0.0911 - accuracy: 0.4987 - val_loss: 0.4001 - val_accuracy: 0.5053\n"
     ]
    }
   ],
   "source": [
    "history = model.fit(\n",
    " train_x, train_y,\n",
    " epochs= 10,\n",
    " batch_size = 500,\n",
    " validation_data = (test_x, test_y)\n",
    ")"
   ]
  },
  {
   "cell_type": "code",
   "execution_count": 49,
   "id": "1639e6ee-3458-433f-a43d-f7c7fb588e9e",
   "metadata": {},
   "outputs": [
    {
     "data": {
      "image/png": "[encoded data removed]",
      "text/plain": [
       "<Figure size 576x360 with 1 Axes>"
      ]
     },
     "metadata": {
      "needs_background": "light"
     },
     "output_type": "display_data"
    }
   ],
   "source": [
    "pd.DataFrame(history.history).plot(figsize=(8,5))\n",
    "plt.grid(True)\n",
    "plt.gca().set_ylim(0,1)\n",
    "plt.show()"
   ]
  },
  {
   "cell_type": "markdown",
   "id": "64eb219d-d233-4960-9fca-ee910e53af25",
   "metadata": {},
   "source": [
    "### Model 2  zmieniona funkcja softmax na sigmoid oraz optimizer adam na rmsprop"
   ]
  },
  {
   "cell_type": "code",
   "execution_count": 50,
   "id": "0eb12409-24f9-4164-b37d-b8d4ce9f4de4",
   "metadata": {},
   "outputs": [
    {
     "name": "stdout",
     "output_type": "stream",
     "text": [
      "Model: \"sequential_7\"\n",
      "_________________________________________________________________\n",
      " Layer (type)                Output Shape              Param #   \n",
      "=================================================================\n",
      " dense_28 (Dense)            (None, 128)               1280128   \n",
      "                                                                 \n",
      " dropout_14 (Dropout)        (None, 128)               0         \n",
      "                                                                 \n",
      " dense_29 (Dense)            (None, 64)                8256      \n",
      "                                                                 \n",
      " dropout_15 (Dropout)        (None, 64)                0         \n",
      "                                                                 \n",
      " dense_30 (Dense)            (None, 32)                2080      \n",
      "                                                                 \n",
      " dense_31 (Dense)            (None, 1)                 33        \n",
      "                                                                 \n",
      "=================================================================\n",
      "Total params: 1,290,497\n",
      "Trainable params: 1,290,497\n",
      "Non-trainable params: 0\n",
      "_________________________________________________________________\n"
     ]
    }
   ],
   "source": [
    "model = tf.keras.models.Sequential([\n",
    "tf.keras.layers.Dense(128, activation='tanh', input_shape=(10000,)),\n",
    "tf.keras.layers.Dropout(0.3, noise_shape=None, seed=None),\n",
    "tf.keras.layers.Dense(64, activation = \"tanh\"),\n",
    "tf.keras.layers.Dropout(0.2, noise_shape=None, seed=None),\n",
    "tf.keras.layers.Dense(32, activation='tanh'),\n",
    "tf.keras.layers.Dense(1, activation='sigmoid') \n",
    "])\n",
    "model.summary()"
   ]
  },
  {
   "cell_type": "code",
   "execution_count": 51,
   "id": "d0419fde-1e49-4999-b112-47bba099a3b7",
   "metadata": {},
   "outputs": [],
   "source": [
    "model.compile(\n",
    "    optimizer = \"rmsprop\",\n",
    "    loss = \"binary_crossentropy\",\n",
    "    metrics = [\"accuracy\"]\n",
    ")"
   ]
  },
  {
   "cell_type": "code",
   "execution_count": 52,
   "id": "65b2a593-27be-473e-bcc5-baaa90b0ca5c",
   "metadata": {},
   "outputs": [
    {
     "name": "stdout",
     "output_type": "stream",
     "text": [
      "Epoch 1/10\n",
      "80/80 [==============================] - 17s 197ms/step - loss: 0.3720 - accuracy: 0.8322 - val_loss: 0.2653 - val_accuracy: 0.8957\n",
      "Epoch 2/10\n",
      "80/80 [==============================] - 5s 61ms/step - loss: 0.2356 - accuracy: 0.9061 - val_loss: 0.2564 - val_accuracy: 0.8982\n",
      "Epoch 3/10\n",
      "80/80 [==============================] - 5s 64ms/step - loss: 0.1974 - accuracy: 0.9221 - val_loss: 0.2741 - val_accuracy: 0.8938\n",
      "Epoch 4/10\n",
      "80/80 [==============================] - 5s 65ms/step - loss: 0.1756 - accuracy: 0.9298 - val_loss: 0.2922 - val_accuracy: 0.8909\n",
      "Epoch 5/10\n",
      "80/80 [==============================] - 4s 51ms/step - loss: 0.1585 - accuracy: 0.9360 - val_loss: 0.3056 - val_accuracy: 0.8855\n",
      "Epoch 6/10\n",
      "80/80 [==============================] - 4s 50ms/step - loss: 0.1398 - accuracy: 0.9433 - val_loss: 0.3633 - val_accuracy: 0.8690\n",
      "Epoch 7/10\n",
      "80/80 [==============================] - 4s 50ms/step - loss: 0.1286 - accuracy: 0.9474 - val_loss: 0.3526 - val_accuracy: 0.8801\n",
      "Epoch 8/10\n",
      "80/80 [==============================] - 4s 55ms/step - loss: 0.1155 - accuracy: 0.9539 - val_loss: 0.3813 - val_accuracy: 0.8792\n",
      "Epoch 9/10\n",
      "80/80 [==============================] - 4s 51ms/step - loss: 0.1032 - accuracy: 0.9597 - val_loss: 0.3766 - val_accuracy: 0.8827\n",
      "Epoch 10/10\n",
      "80/80 [==============================] - 4s 52ms/step - loss: 0.0932 - accuracy: 0.9639 - val_loss: 0.4197 - val_accuracy: 0.8664\n"
     ]
    }
   ],
   "source": [
    "history = model.fit(\n",
    " train_x, train_y,\n",
    " epochs= 10,\n",
    " batch_size = 500,\n",
    " validation_data = (test_x, test_y)\n",
    ")"
   ]
  },
  {
   "cell_type": "code",
   "execution_count": 53,
   "id": "2eeac19e-b3b6-4b00-b1d5-ad732edc66df",
   "metadata": {},
   "outputs": [
    {
     "data": {
      "image/png": "[encoded data removed]",
      "text/plain": [
       "<Figure size 576x360 with 1 Axes>"
      ]
     },
     "metadata": {
      "needs_background": "light"
     },
     "output_type": "display_data"
    }
   ],
   "source": [
    "pd.DataFrame(history.history).plot(figsize=(8,5))\n",
    "plt.grid(True)\n",
    "plt.gca().set_ylim(0,1)\n",
    "plt.show()"
   ]
  },
  {
   "cell_type": "code",
   "execution_count": 54,
   "id": "703e48ed-d585-4545-9f36-19745a9d0c42",
   "metadata": {},
   "outputs": [
    {
     "name": "stdout",
     "output_type": "stream",
     "text": [
      "313/313 [==============================] - 2s 5ms/step - loss: 0.4197 - accuracy: 0.8664\n"
     ]
    },
    {
     "data": {
      "text/plain": [
       "[0.41974717378616333, 0.8664000034332275]"
      ]
     },
     "execution_count": 54,
     "metadata": {},
     "output_type": "execute_result"
    }
   ],
   "source": [
    "model.evaluate(test_x, test_y)"
   ]
  },
  {
   "cell_type": "code",
   "execution_count": null,
   "id": "e5b7674d-c7f6-4967-9ab3-08ddf5f88023",
   "metadata": {},
   "outputs": [],
   "source": []
  }
 ],
 "metadata": {
  "kernelspec": {
   "display_name": "Python 3 (ipykernel)",
   "language": "python",
   "name": "python3"
  },
  "language_info": {
   "codemirror_mode": {
    "name": "ipython",
    "version": 3
   },
   "file_extension": ".py",
   "mimetype": "text/x-python",
   "name": "python",
   "nbconvert_exporter": "python",
   "pygments_lexer": "ipython3",
   "version": "3.9.7"
  }
 },
 "nbformat": 4,
 "nbformat_minor": 5
}
