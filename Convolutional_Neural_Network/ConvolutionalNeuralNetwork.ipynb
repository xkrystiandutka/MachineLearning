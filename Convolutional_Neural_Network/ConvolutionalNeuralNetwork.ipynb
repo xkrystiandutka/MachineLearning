{
 "cells": [
  {
   "cell_type": "markdown",
   "id": "9b46d93d-1a2a-4297-b2de-a91327dd765a",
   "metadata": {},
   "source": [
    "#### Convolutional Neural Network\n",
    "\n",
    "#### Zadanie polega na utworzenu sieci konwolucyjnej pozwalającej na rozpoznawanie ubrań na podstawie zbioru MNIST Fashion.\n",
    "\n",
    "Proszę wyświetlić wizualizację kilku filtrów konwolucyjnych (co sieć \"widzi\") - polega to na przepuszczeniu przez sieć próbki (przejście w przód), pobranie wartości aktywacji wybranej warstwy i filtra, a następnie wyświetleniu poprzez imshow.\n",
    "\n",
    "Dodatkowo, proszę zastosować warstwę Softmax i dla kilku przykładów wyświetlić wykres słupkowy (barplot) z wyznaczonymi prawdopodobieństwami, wartością przewidzianą oraz wartością prawdziwą - na wykresie proszę zawrzeć również sprawdzany obraz (trochę zabawy z matplotlibem).\n",
    "\n",
    "Projekt powinien obejmować trenowanie oraz testowanie sieci."
   ]
  },
  {
   "cell_type": "code",
   "execution_count": 1,
   "id": "9b5cda4d-52e9-4888-bd5e-c56073badab7",
   "metadata": {},
   "outputs": [],
   "source": [
    "import tensorflow as tf\n",
    "import numpy as np\n",
    "import pandas as pd\n",
    "from matplotlib import pyplot as plt\n",
    "from sklearn.model_selection import train_test_split\n",
    "from keras import models\n",
    "from keras import layers\n",
    "from keras.datasets import fashion_mnist\n",
    "from keras.utils import load_img, img_to_array\n",
    "from keras.models import Model\n",
    "from tensorflow.keras.callbacks import EarlyStopping\n",
    "from tensorflow.keras.models import Sequential\n",
    "from tensorflow.keras.layers import Flatten, add, Dense, Dropout, Convolution2D, MaxPooling2D, ZeroPadding2D\n",
    "from tensorflow.keras.losses import SparseCategoricalCrossentropy\n",
    "from tensorflow.keras.utils import to_categorical"
   ]
  },
  {
   "cell_type": "code",
   "execution_count": 2,
   "id": "436c5818-7353-4955-949b-4bf372849962",
   "metadata": {},
   "outputs": [
    {
     "name": "stdout",
     "output_type": "stream",
     "text": [
      "2.9.1\n"
     ]
    }
   ],
   "source": [
    "print(tf.__version__)"
   ]
  },
  {
   "cell_type": "code",
   "execution_count": 3,
   "id": "1f89f41b-9ab9-41f3-98f4-9ade4e8948fb",
   "metadata": {},
   "outputs": [],
   "source": [
    "fashionMnist = tf.keras.datasets.fashion_mnist\n",
    "(train_images, train_labels), (test_images, test_labels) = fashion_mnist.load_data()\n",
    "X_train, X_test, y_train, y_test = train_test_split(train_images, train_labels, test_size=0.30)"
   ]
  },
  {
   "cell_type": "code",
   "execution_count": 4,
   "id": "90475659-3af5-415e-8e93-7e212f72407d",
   "metadata": {},
   "outputs": [],
   "source": [
    "classNames = ['T-shirt/top', 'Trouser', 'Pullover', 'Dress', 'Coat', 'Sandal', 'Shirt', 'Sneaker', 'Bag', 'Ankle boot']"
   ]
  },
  {
   "cell_type": "markdown",
   "id": "a3ee7feb-bc85-441b-8855-7e602aa595d3",
   "metadata": {},
   "source": [
    "###### 0 T-shirt/top\n",
    "###### 1 Trouser\n",
    "###### 2 Pullover\n",
    "###### 3 Dress\n",
    "###### 4 Coat\n",
    "###### 5 Sandal\n",
    "###### 6 Shirt\n",
    "###### 7 Sneaker\n",
    "###### 8 Bag\n",
    "###### 9 Ankle boot"
   ]
  },
  {
   "cell_type": "code",
   "execution_count": 5,
   "id": "dac0b7d1-16d0-410c-9826-aea9434c6ae8",
   "metadata": {},
   "outputs": [
    {
     "data": {
      "text/plain": [
       "(60000, 28, 28)"
      ]
     },
     "execution_count": 5,
     "metadata": {},
     "output_type": "execute_result"
    }
   ],
   "source": [
    "train_images.shape #60000 obrazów treningowych 28x28"
   ]
  },
  {
   "cell_type": "code",
   "execution_count": 6,
   "id": "38638903-2c73-4790-b6dc-ae07a55c2df3",
   "metadata": {},
   "outputs": [
    {
     "data": {
      "text/plain": [
       "(10000, 28, 28)"
      ]
     },
     "execution_count": 6,
     "metadata": {},
     "output_type": "execute_result"
    }
   ],
   "source": [
    "test_images.shape  #10000 obrazów testowych 28x28"
   ]
  },
  {
   "cell_type": "code",
   "execution_count": 7,
   "id": "5f920d30-76d6-491f-8d67-23046ed6089b",
   "metadata": {},
   "outputs": [
    {
     "data": {
      "image/png": "[encoded data removed]",
      "text/plain": [
       "<Figure size 432x288 with 2 Axes>"
      ]
     },
     "metadata": {
      "needs_background": "light"
     },
     "output_type": "display_data"
    }
   ],
   "source": [
    "plt.figure()\n",
    "plt.imshow(train_images[1], cmap=plt.get_cmap('gray'))\n",
    "plt.colorbar()\n",
    "plt.show()"
   ]
  },
  {
   "cell_type": "code",
   "execution_count": 8,
   "id": "d2e9d11f-8701-4799-b3df-957efac2b86e",
   "metadata": {},
   "outputs": [],
   "source": [
    "trainLabelsCat = to_categorical(train_labels)\n",
    "testLabelsCat = to_categorical(test_labels)"
   ]
  },
  {
   "cell_type": "code",
   "execution_count": 9,
   "id": "cbbb7971-143a-46d2-a376-d0133a861754",
   "metadata": {},
   "outputs": [
    {
     "name": "stdout",
     "output_type": "stream",
     "text": [
      "Epoch 1/15\n",
      "1875/1875 [==============================] - 121s 64ms/step - loss: 0.6727 - accuracy: 0.8132\n",
      "Epoch 2/15\n",
      "1875/1875 [==============================] - 119s 64ms/step - loss: 0.4301 - accuracy: 0.8548\n",
      "Epoch 3/15\n",
      "1875/1875 [==============================] - 130s 69ms/step - loss: 0.4478 - accuracy: 0.8507\n",
      "Epoch 4/15\n",
      "1875/1875 [==============================] - 122s 65ms/step - loss: 0.4776 - accuracy: 0.8460\n",
      "Epoch 5/15\n",
      "1875/1875 [==============================] - 118s 63ms/step - loss: 0.4992 - accuracy: 0.8406\n",
      "Epoch 6/15\n",
      "1875/1875 [==============================] - 119s 63ms/step - loss: 0.5214 - accuracy: 0.8317\n",
      "Epoch 7/15\n",
      "1875/1875 [==============================] - 120s 64ms/step - loss: 0.5541 - accuracy: 0.8243\n",
      "Epoch 7: early stopping\n",
      "313/313 [==============================] - 6s 18ms/step - loss: 0.4822 - accuracy: 0.8347\n"
     ]
    }
   ],
   "source": [
    "from tensorflow.keras.callbacks import EarlyStopping\n",
    "model = Sequential()\n",
    "model.add(layers.Conv2D(filters = 192, kernel_size = (3, 3), activation='relu', input_shape=(28,28,1)))\n",
    "model.add(layers.MaxPooling2D((2,2)))\n",
    "model.add(layers.Conv2D(256, (3, 3), activation='relu'))\n",
    "model.add(layers.MaxPooling2D((2,2))) #, padding='same'))\n",
    "#model.add(ZeroPadding2D((1,1)))\n",
    "#model.add(Convolution2D(512, 3, 3, activation='relu'))\n",
    "#model.add(ZeroPadding2D((1,1)))\n",
    "#model.add(Convolution2D(512, 3, 3, activation='relu'))\n",
    "#model.add(ZeroPadding2D((1,1)))\n",
    "#model.add(Convolution2D(512, 3, 3, activation='relu'))\n",
    "#model.add(MaxPooling2D((2,2), strides=(2,2)))\n",
    "\n",
    "\n",
    "model.add(layers.Flatten())\n",
    "model.add(layers.Dense(128, activation='relu'))\n",
    "model.add(Dropout(0.2))\n",
    "model.add(layers.Dense(128, activation='relu'))\n",
    "model.add(Dropout(0.2))\n",
    "model.add(layers.Dense(10, activation='softmax'))\n",
    "\n",
    "EarlyStop = EarlyStopping(monitor='loss', \n",
    "                          patience=5,\n",
    "                          verbose=1)\n",
    "\n",
    "model.compile(optimizer='rmsprop', loss='categorical_crossentropy', metrics=['accuracy'])\n",
    "history = model.fit(train_images, trainLabelsCat, epochs=15, batch_size=32, callbacks = [EarlyStop])\n",
    "test_loss, test_acc = model.evaluate(test_images, testLabelsCat)"
   ]
  },
  {
   "cell_type": "code",
   "execution_count": 10,
   "id": "38ece300-f30c-4483-b916-1314e88a39de",
   "metadata": {},
   "outputs": [
    {
     "data": {
      "image/png": "[encoded data removed]",
      "text/plain": [
       "<Figure size 720x360 with 1 Axes>"
      ]
     },
     "metadata": {
      "needs_background": "light"
     },
     "output_type": "display_data"
    }
   ],
   "source": [
    "pd.DataFrame(history.history).plot(figsize=(10,5))\n",
    "plt.grid(True)\n",
    "plt.gca().set_ylim(0,1)\n",
    "plt.show()"
   ]
  },
  {
   "cell_type": "code",
   "execution_count": 11,
   "id": "3c2eaf69-fd5e-4ee3-ad7c-da453719189d",
   "metadata": {},
   "outputs": [
    {
     "name": "stdout",
     "output_type": "stream",
     "text": [
      "Model: \"sequential\"\n",
      "_________________________________________________________________\n",
      " Layer (type)                Output Shape              Param #   \n",
      "=================================================================\n",
      " conv2d (Conv2D)             (None, 26, 26, 192)       1920      \n",
      "                                                                 \n",
      " max_pooling2d (MaxPooling2D  (None, 13, 13, 192)      0         \n",
      " )                                                               \n",
      "                                                                 \n",
      " conv2d_1 (Conv2D)           (None, 11, 11, 256)       442624    \n",
      "                                                                 \n",
      " max_pooling2d_1 (MaxPooling  (None, 5, 5, 256)        0         \n",
      " 2D)                                                             \n",
      "                                                                 \n",
      " flatten (Flatten)           (None, 6400)              0         \n",
      "                                                                 \n",
      " dense (Dense)               (None, 128)               819328    \n",
      "                                                                 \n",
      " dropout (Dropout)           (None, 128)               0         \n",
      "                                                                 \n",
      " dense_1 (Dense)             (None, 128)               16512     \n",
      "                                                                 \n",
      " dropout_1 (Dropout)         (None, 128)               0         \n",
      "                                                                 \n",
      " dense_2 (Dense)             (None, 10)                1290      \n",
      "                                                                 \n",
      "=================================================================\n",
      "Total params: 1,281,674\n",
      "Trainable params: 1,281,674\n",
      "Non-trainable params: 0\n",
      "_________________________________________________________________\n",
      "None\n"
     ]
    }
   ],
   "source": [
    "print(model.summary()) "
   ]
  },
  {
   "cell_type": "code",
   "execution_count": 12,
   "id": "70db95b2-1330-4dcf-8431-4d8e907b61eb",
   "metadata": {},
   "outputs": [
    {
     "data": {
      "text/plain": [
       "<matplotlib.image.AxesImage at 0x179cfee59a0>"
      ]
     },
     "execution_count": 12,
     "metadata": {},
     "output_type": "execute_result"
    },
    {
     "data": {
      "image/png": "[encoded data removed]",
      "text/plain": [
       "<Figure size 432x288 with 1 Axes>"
      ]
     },
     "metadata": {
      "needs_background": "light"
     },
     "output_type": "display_data"
    }
   ],
   "source": [
    "plt.imshow(X_test[32], cmap=plt.get_cmap('gray'))"
   ]
  },
  {
   "cell_type": "code",
   "execution_count": 13,
   "id": "b6765450-f298-4cb0-a1a7-8301c4d80feb",
   "metadata": {},
   "outputs": [
    {
     "name": "stdout",
     "output_type": "stream",
     "text": [
      "1/1 [==============================] - 0s 85ms/step\n"
     ]
    },
    {
     "data": {
      "text/plain": [
       "<BarContainer object of 10 artists>"
      ]
     },
     "execution_count": 13,
     "metadata": {},
     "output_type": "execute_result"
    },
    {
     "data": {
      "image/png": "[encoded data removed]",
      "text/plain": [
       "<Figure size 1080x720 with 1 Axes>"
      ]
     },
     "metadata": {
      "needs_background": "light"
     },
     "output_type": "display_data"
    }
   ],
   "source": [
    "model_predictions = model.predict(X_test[32].reshape((1,28,28,1)))\n",
    "plt.figure(figsize=(15,10))\n",
    "plt.bar(classNames,model_predictions[0], width=0.2,align='center', color='g')"
   ]
  },
  {
   "cell_type": "code",
   "execution_count": 14,
   "id": "2209d052-8860-4c38-ba25-4693520dfb2e",
   "metadata": {},
   "outputs": [
    {
     "name": "stdout",
     "output_type": "stream",
     "text": [
      "(60000, 28, 28)\n",
      "(60000, 28, 28) (10000, 28, 28)\n",
      "(60000, 28, 28) (10000, 28, 28)\n",
      "[[0. 0. 0. ... 0. 0. 1.]\n",
      " [1. 0. 0. ... 0. 0. 0.]\n",
      " [1. 0. 0. ... 0. 0. 0.]\n",
      " ...\n",
      " [0. 0. 0. ... 0. 0. 0.]\n",
      " [1. 0. 0. ... 0. 0. 0.]\n",
      " [0. 0. 0. ... 0. 0. 0.]] [[0. 0. 0. ... 0. 0. 1.]\n",
      " [0. 0. 1. ... 0. 0. 0.]\n",
      " [0. 1. 0. ... 0. 0. 0.]\n",
      " ...\n",
      " [0. 0. 0. ... 0. 1. 0.]\n",
      " [0. 1. 0. ... 0. 0. 0.]\n",
      " [0. 0. 0. ... 0. 0. 0.]]\n"
     ]
    }
   ],
   "source": [
    "print(train_images.shape)\n",
    "train_images = train_images / 255.0\n",
    "test_images = test_images / 255.0\n",
    "print(train_images.shape, test_images.shape)\n",
    "#train_images = train_images.reshape((60000, 28, 28, 1)).astype('float32')/255\n",
    "#test_images = test_images.reshape((10000, 28, 28, 1)).astype('float32')/255\n",
    "print(train_images.shape, test_images.shape)\n",
    "\n",
    "train_labels_cat = to_categorical(train_labels)\n",
    "test_labels_cat = to_categorical(test_labels)\n",
    "print(train_labels_cat, test_labels_cat)"
   ]
  },
  {
   "cell_type": "code",
   "execution_count": null,
   "id": "e9d1cd2d-ae53-41a6-a814-a2a18500c751",
   "metadata": {},
   "outputs": [
    {
     "name": "stdout",
     "output_type": "stream",
     "text": [
      " 571/1875 [========>.....................] - ETA: 25s"
     ]
    }
   ],
   "source": [
    "N = 16\n",
    "predictions = model.predict(train_images)\n",
    "pred = np.argmax(predictions, axis = 1)[:N] \n",
    "label = np.argmax(train_labels_cat, axis = 1)[:N] \n",
    "print(pred, label)\n",
    "\n",
    "class_names = ['T-shirt/top', 'Trouser', 'Pullover', 'Dress', 'Coat',\n",
    "               'Sandal', 'Shirt', 'Sneaker', 'Bag', 'Ankle boot']\n",
    "\n",
    "def plot_image(i, predictions_array, true_label, img) : \n",
    "    true_label, img = true_label[i], img[i]\n",
    "    plt.grid(False)\n",
    "    plt.xticks([])\n",
    "    plt.yticks([])\n",
    "\n",
    "    plt.imshow(img, cmap=plt.cm.binary)\n",
    "\n",
    "    predicted_label = np.argmax(predictions_array)\n",
    "    if predicted_label == true_label:\n",
    "        color = 'green'\n",
    "    else:\n",
    "        color = 'red'\n",
    "\n",
    "    plt.xlabel(\"{} {:2.0f}% ({})\".format(class_names[predicted_label],\n",
    "                                100*np.max(predictions_array),\n",
    "                                class_names[true_label]),\n",
    "                                color=color)\n",
    "\n",
    "def plot_value_array(i, predictions_array, true_label):\n",
    "    true_label = true_label[i]\n",
    "    plt.grid(False)\n",
    "    plt.xticks(range(10))\n",
    "    plt.yticks([])\n",
    "    thisplot = plt.bar(range(10), predictions_array, color=\"#777777\")\n",
    "    plt.ylim([0, 1])\n",
    "    predicted_label = np.argmax(predictions_array)\n",
    "\n",
    "    thisplot[predicted_label].set_color('red')\n",
    "    thisplot[true_label].set_color('green')\n",
    "\n",
    "num_rows = 4\n",
    "num_cols = 2\n",
    "num_images = num_rows*num_cols\n",
    "plt.figure(figsize=(2*2*num_cols, 2*num_rows))\n",
    "for i in range(num_images):\n",
    "    plt.subplot(num_rows, 2*num_cols, 2*i+1)\n",
    "    plot_image(i, predictions[i], train_labels, train_images)\n",
    "    plt.subplot(num_rows, 2*num_cols, 2*i+2)\n",
    "    plot_value_array(i, predictions[i], train_labels)\n",
    "plt.tight_layout()\n",
    "plt.show()\n",
    "\n",
    "\n",
    "fig = plt.figure(figsize = (20, 10))\n",
    "ind = np.arange(N)\n",
    "width = 0.3\n",
    "ax = fig.add_axes([0,0,1,1])\n",
    "plt.bar(ind, pred, width, color = 'b')\n",
    "plt.bar(ind + width, label, width, color = 'g')\n",
    "#ax.set_ylabel('Values')\n",
    "ax.set_yticks(np.arange(0, 10, 1))\n",
    "ax.set_title('Predicted values compared to true values')\n",
    "#sns.barplot(x = \"predicted\", y = \"true_value\", data = {'predicted': prediction[0], 'true_value': X_train})\n",
    "plt.legend(['pred', 'labels'], loc='best')\n",
    "plt.ylabel('Value from dataset')\n",
    "#plt.xlabel('Count of Samples/Observations');\n",
    "plt.show()"
   ]
  },
  {
   "cell_type": "markdown",
   "id": "e0a888a8-8277-4b10-9c81-23b06b3ad2bb",
   "metadata": {
    "tags": []
   },
   "source": [
    "train_images = train_images / 255.0\n",
    "test_images = test_images / 255.0\n",
    "\n",
    "N = 16\n",
    "predictions = model.predict(train_images)\n",
    "pred = np.argmax(predictions, axis = 1)[:N] \n",
    "label = np.argmax(train_labels_cat, axis = 1)[:N] \n",
    "print(pred, label)\n",
    "\n",
    "def plot_image(i, predictions_array, true_label, img) : \n",
    "    true_label, img = true_label[i], img[i]\n",
    "    plt.grid(False)\n",
    "    plt.xticks([])\n",
    "    plt.yticks([])\n",
    "\n",
    "    plt.imshow(img, cmap=plt.cm.binary)\n",
    "\n",
    "    predicted_label = np.argmax(predictions_array)\n",
    "    if predicted_label == true_label:\n",
    "        color = 'green'\n",
    "    else:\n",
    "        color = 'red'\n",
    "\n",
    "    plt.xlabel(\"{} {:2.0f}% ({})\".format(classNames[predicted_label],\n",
    "                                100*np.max(predictions_array),\n",
    "                                classNames[true_label]),\n",
    "                                color=color)\n",
    "\n",
    "def plot_value_array(i, predictions_array, true_label):\n",
    "    true_label = true_label[i]\n",
    "    plt.grid(False)\n",
    "    plt.xticks(range(10))\n",
    "    plt.yticks([])\n",
    "    thisplot = plt.bar(range(10), predictions_array, color=\"#777777\")\n",
    "    plt.ylim([0, 1])\n",
    "    predicted_label = np.argmax(predictions_array)\n",
    "\n",
    "    thisplot[predicted_label].set_color('red')\n",
    "    thisplot[true_label].set_color('green')\n",
    "\n",
    "num_rows = 6\n",
    "num_cols = 4\n",
    "num_images = num_rows*num_cols\n",
    "plt.figure(figsize=(2*2*num_cols, 2*num_rows))\n",
    "for i in range(num_images):\n",
    "    plt.subplot(num_rows, 2*num_cols, 2*i+1)\n",
    "    plot_image(i, predictions[i], train_labels, train_images)\n",
    "    plt.subplot(num_rows, 2*num_cols, 2*i+2)\n",
    "    plot_value_array(i, predictions[i], train_labels)\n",
    "plt.tight_layout()\n",
    "plt.show()## Wizualizacja tego co widzi sieć"
   ]
  },
  {
   "cell_type": "code",
   "execution_count": null,
   "id": "a0957412-c832-421d-aa19-18dbb4da9c06",
   "metadata": {},
   "outputs": [],
   "source": [
    "layers = model.layers\n",
    "print(layers)\n",
    "\n",
    "filters, biases = model.layers[0].get_weights()\n",
    "print(model.layers[1].output.name, filters.shape)\n",
    "\n",
    "fig1=plt.figure(figsize=(8, 12))\n",
    "columns = 8\n",
    "rows = 8\n",
    "n_filters = columns * rows\n",
    "for i in range(1, n_filters +1):\n",
    "    f = filters[:, :, :, i-1]\n",
    "    fig1 =plt.subplot(rows, columns, i)\n",
    "    fig1.set_xticks([])  #Turn off axis\n",
    "    fig1.set_yticks([])\n",
    "    plt.imshow(f[:, :, 0], cmap='gray') #Show only the filters from 0th channel (R)\n",
    "    #ix += 1\n",
    "plt.show()    \n",
    "\n",
    "model_outputs = [model.layers[0].output, model.layers[1].output]\n",
    "model_short = Model(inputs=model.inputs, outputs=model_outputs)\n",
    "print(model_short.summary())"
   ]
  },
  {
   "cell_type": "code",
   "execution_count": null,
   "id": "7e194c58-8dd8-427e-bfe0-a7e8b369aad5",
   "metadata": {},
   "outputs": [],
   "source": [
    "feature_output = model_short.predict(train_images[85:420])\n",
    "\n",
    "columns = 10\n",
    "rows = 10\n",
    "\n",
    "for ftr in feature_output:\n",
    "    fig=plt.figure(figsize=(10, 10))\n",
    "    for i in range(1, columns*rows +1):\n",
    "        fig =plt.subplot(rows, columns, i)\n",
    "        fig.set_xticks([])  \n",
    "        fig.set_yticks([])\n",
    "        plt.imshow(ftr[0, :, :, i-1], cmap='gray')\n",
    "    plt.show()"
   ]
  }
 ],
 "metadata": {
  "kernelspec": {
   "display_name": "Python 3 (ipykernel)",
   "language": "python",
   "name": "python3"
  },
  "language_info": {
   "codemirror_mode": {
    "name": "ipython",
    "version": 3
   },
   "file_extension": ".py",
   "mimetype": "text/x-python",
   "name": "python",
   "nbconvert_exporter": "python",
   "pygments_lexer": "ipython3",
   "version": "3.9.7"
  }
 },
 "nbformat": 4,
 "nbformat_minor": 5
}
